{
 "cells": [
  {
   "cell_type": "code",
   "execution_count": 31,
   "metadata": {},
   "outputs": [],
   "source": [
    "\"\"\"\n",
    "FEATURE REDUCTION TO 42 FEATURES\n",
    "\n",
    "This code extracts all the OpenPose keypoints from individual frame JSON files from all the input ASL video data. \n",
    "From that we extract all the required Face, Body and Hand keypoints. \n",
    "\n",
    "Principal component analysis is run on all the data. Top 5 principal components were calculated. The features contributing to \n",
    "each of these components were analyzed and top 42 most common features among all these components were selected. \n",
    "Out of all the features just these 42 features were selected. \n",
    "\n",
    "The result of this dimentionality reduction is stored in the following files:\n",
    "    key_points_42.npy\n",
    "    key_points_42.pkl\n",
    "    \n",
    "\n",
    "NOTE: This code doesn't map the OpenPose data to corresponding ASL English sentences. \n",
    "That is done in different ipynb file:\n",
    "    For Frame to True Translation mapping, Use - gloss_frame_connection.ipynb\n",
    "    For Frame to Gloss mapping, Use - gloss_target_conversion.ipynb\n",
    "\"\"\"\n",
    "import numpy as np\n",
    "import pandas as pd\n",
    "import matplotlib.pyplot as plt\n",
    "from sklearn.metrics import accuracy_score\n",
    "import pickle\n",
    "from sklearn.decomposition import PCA\n",
    "from sklearn.preprocessing import StandardScaler\n",
    "import seaborn as sns\n",
    "import collections"
   ]
  },
  {
   "cell_type": "code",
   "execution_count": 12,
   "metadata": {},
   "outputs": [],
   "source": [
    "def get_face_points(x,i):\n",
    "    f_data = x[i]\n",
    "    # get just the points around the mouth/lips\n",
    "    start_pt_no = 48\n",
    "    end_pt_no = 67\n",
    "    f_data = f_data[start_pt_no*3:(end_pt_no+1)*3]\n",
    "#     print(len(f_data)/3)\n",
    "    return f_data\n",
    "\n",
    "def get_pose_points(x,i):\n",
    "    p_data = x[i]\n",
    "    # get neck and hands\n",
    "    start_pt_no = 0\n",
    "    end_pt_no = 7\n",
    "    p_data_final = p_data[start_pt_no*3:(end_pt_no+1)*3]\n",
    "    \n",
    "#     # get neck and cheek points\n",
    "    start_pt_no = 15\n",
    "    end_pt_no = 18\n",
    "    p_data_final.append(p_data[start_pt_no*3:(end_pt_no+1)*3])\n",
    "    p_data_final = np.hstack(p_data_final).copy()\n",
    "#     print(len(p_data_final)/3)\n",
    "    return p_data_final"
   ]
  },
  {
   "cell_type": "code",
   "execution_count": 13,
   "metadata": {},
   "outputs": [],
   "source": [
    "def get_data(data):\n",
    "    x = data['people'][0]\n",
    "    key_points = []\n",
    "    for i in x:\n",
    "#         print(i)\n",
    "        if i == 'pose_keypoints_2d':\n",
    "#             print(np.array(get_pose_points(x,i)).shape)\n",
    "            key_points.append(get_pose_points(x,i))\n",
    "        if i == 'face_keypoints_2d':\n",
    "#             print(np.array(get_face_points(x,i)).shape)\n",
    "            key_points.append(get_face_points(x,i))\n",
    "        if i == 'hand_left_keypoints_2d':\n",
    "#             print(len(x[i])/3)\n",
    "#             print(np.array(x[i]).shape)\n",
    "            key_points.append(x[i])\n",
    "        if i =='hand_right_keypoints_2d':\n",
    "#             print(len(x[i])/3)\n",
    "#             print(np.array(x[i]).shape)\n",
    "            key_points.append(x[i])\n",
    "    key_points = np.hstack(key_points).copy()\n",
    "#     normed_keypoints = (key_points - key_points.mean(axis=0)) / key_points.std(axis=0)\n",
    "#     return normed_keypoints\n",
    "    key_points = key_points[cleaned_indexes]\n",
    "    return key_points"
   ]
  },
  {
   "cell_type": "code",
   "execution_count": 14,
   "metadata": {},
   "outputs": [],
   "source": [
    "signer_names=['SIA02','SIB01','SIC02']\n",
    "story = ['story01-front_x264']\n",
    "frame = '00000000000'\n",
    "data = pd.read_json(signer_names[0]+'-'+story[0]+'/SIA02-story01-front_x264_000000000000_keypoints.json')"
   ]
  },
  {
   "cell_type": "code",
   "execution_count": 15,
   "metadata": {},
   "outputs": [],
   "source": [
    "remove_indexes = [i for i in range(2,222,3)]\n",
    "total_indexes = [i for i in range(0,222)]\n",
    "cleaned_indexes = np.setdiff1d(total_indexes,remove_indexes)"
   ]
  },
  {
   "cell_type": "code",
   "execution_count": 18,
   "metadata": {},
   "outputs": [
    {
     "name": "stdout",
     "output_type": "stream",
     "text": [
      "\n",
      "SIA02-story01-front_x264/\n",
      "Inner file -  SIA02-story01-front_x264/SIA02-story01-front_x264_000000001145_keypoints.json\n",
      "(1145, 148)\n",
      "\n",
      "SIB01-story01-front_x264/\n",
      "Inner file -  SIB01-story01-front_x264/SIB01-story01-front_x264_000000000947_keypoints.json\n",
      "(947, 148)\n",
      "\n",
      "SIC02-story01-front_x264/\n",
      "Inner file -  SIC02-story01-front_x264/SIC02-story01-front_x264_000000007502_keypoints.json\n",
      "(7502, 148)\n",
      "\n",
      "SIA02-story02-front_x264/\n",
      "Inner file -  SIA02-story02-front_x264/SIA02-story02-front_x264_000000000704_keypoints.json\n",
      "(704, 148)\n",
      "\n",
      "SIB01-story02-front_x264/\n",
      "Inner file -  SIB01-story02-front_x264/SIB01-story02-front_x264_000000000664_keypoints.json\n",
      "(664, 148)\n",
      "\n",
      "SIC02-story02-front_x264/\n",
      "Inner file -  SIC02-story02-front_x264/SIC02-story02-front_x264_000000001692_keypoints.json\n",
      "(1692, 148)\n",
      "\n",
      "SIA02-story03-front_x264/\n",
      "Inner file -  SIA02-story03-front_x264/SIA02-story03-front_x264_000000000000_keypoints.json\n",
      "'SIA02-story03-front_x264'\n",
      "\n",
      "SIA02-story04-front_x264/\n",
      "Inner file -  SIA02-story04-front_x264/SIA02-story04-front_x264_000000000000_keypoints.json\n",
      "'SIA02-story04-front_x264'\n"
     ]
    }
   ],
   "source": [
    "signer_names=['SIA02','SIB01','SIC02']\n",
    "story_name = 'story'\n",
    "frame = '00000000000'\n",
    "train_key_points = []\n",
    "for story in range(1,80):\n",
    "    if story<10:\n",
    "        s_no = '0'+str(story)\n",
    "    else:\n",
    "        s_no = str(story)\n",
    "    s_no = story_name+s_no\n",
    "    try:\n",
    "        for signer in signer_names:\n",
    "            dict_entry = {}\n",
    "            sub_name = signer+'-'+s_no+'-front_x264'\n",
    "            trans_dir = sub_name+'/'\n",
    "            print()\n",
    "            print(trans_dir)\n",
    "            i = 0\n",
    "            stop = False\n",
    "            while not stop:\n",
    "                x = int(i/10)\n",
    "                if x<1:\n",
    "                    space_counter=1\n",
    "                elif x<10:\n",
    "                    space_counter=2\n",
    "                elif x<100:\n",
    "                    space_counter=3\n",
    "                elif x<1000:\n",
    "                    space_counter=4\n",
    "\n",
    "                fname=frame[-space_counter::-1]+str(i)\n",
    "                file_name = trans_dir+sub_name+'_'+fname+'_keypoints.json'\n",
    "#                 print(file_name)\n",
    "                i+=1\n",
    "                try:\n",
    "                    data = pd.read_json(file_name)\n",
    "                except:\n",
    "                    stop = True\n",
    "                    print(\"Inner file - \",file_name)\n",
    "                    break\n",
    "                train_key_points_np = np.array(get_data(data))\n",
    "#                 print(train_key_points_np.shape)\n",
    "#                 train_key_points_np = train_key_points_np[:][cleaned_indexes]\n",
    "#                 print(train_key_points_np.shape)\n",
    "                train_key_points_np_5 = train_key_points_np\n",
    "                if sub_name not in dict_entry:\n",
    "                    dict_entry[sub_name] = train_key_points_np_5\n",
    "                else:\n",
    "                    dict_entry[sub_name] = np.vstack((dict_entry[sub_name],train_key_points_np_5))\n",
    "#                 train_key_points.append(get_data(data))\n",
    "            train_key_points.append(dict_entry)\n",
    "            print(train_key_points[np.array(train_key_points).shape[0]-1][sub_name].shape)\n",
    "    except Exception as e:\n",
    "        print(e)\n",
    "        pass"
   ]
  },
  {
   "cell_type": "code",
   "execution_count": 23,
   "metadata": {},
   "outputs": [
    {
     "name": "stdout",
     "output_type": "stream",
     "text": [
      "(12654, 148)\n"
     ]
    }
   ],
   "source": [
    "count = 0\n",
    "t_key_points = []\n",
    "for i in train_key_points:\n",
    "    for key in i:\n",
    "        if count == 0:\n",
    "            t_key_points = i[key]\n",
    "            count += 1\n",
    "        else:\n",
    "            t_key_points = np.vstack((t_key_points, i[key]))\n",
    "\n",
    "all_key_points = np.array(t_key_points)\n",
    "print(t_key_points.shape)"
   ]
  },
  {
   "cell_type": "code",
   "execution_count": 24,
   "metadata": {},
   "outputs": [
    {
     "name": "stdout",
     "output_type": "stream",
     "text": [
      "[  0   1   3   4   6   7   9  10  12  13  15  16  18  19  21  22  24  25\n",
      "  27  28  30  31  33  34  36  37  39  40  42  43  45  46  48  49  51  52\n",
      "  54  55  57  58  60  61  63  64  66  67  69  70  72  73  75  76  78  79\n",
      "  81  82  84  85  87  88  90  91  93  94  96  97  99 100 102 103 105 106\n",
      " 108 109 111 112 114 115 117 118 120 121 123 124 126 127 129 130 132 133\n",
      " 135 136 138 139 141 142 144 145 147 148 150 151 153 154 156 157 159 160\n",
      " 162 163 165 166 168 169 171 172 174 175 177 178 180 181 183 184 186 187\n",
      " 189 190 192 193 195 196 198 199 201 202 204 205 207 208 210 211 213 214\n",
      " 216 217 219 220]\n"
     ]
    }
   ],
   "source": [
    "print(cleaned_indexes)"
   ]
  },
  {
   "cell_type": "code",
   "execution_count": null,
   "metadata": {},
   "outputs": [],
   "source": []
  },
  {
   "cell_type": "code",
   "execution_count": 25,
   "metadata": {},
   "outputs": [
    {
     "name": "stdout",
     "output_type": "stream",
     "text": [
      "[ 81  89  79  87  97  95  77  85 105  93 103  73 101  71  83  75  91  99\n",
      "  69  67  65  15 123 121 129 131 127 137 119 139 135 145 147 143 125 115\n",
      " 133 117 141 113 111 109 107   9 104 102 100  96  94  92  98  88  86  84\n",
      "  90  80  78  82  76  64  74  72  70  14  66  68   7  13   5   3  11  43\n",
      "  45  41  47  61  53   1  63  51  31  59  29  55  39  49  33  27  25  17\n",
      "  57   6  35  37  19  21  23  10   2  36  56  38  22  40  34  58  54  20\n",
      "  32  42  60  52   4  30  28  62  50  44  26   0  46  16  48  24  18  12\n",
      "   8 108 110 114 112 106 116 118 124 120 122 132 130 126 140 128 134 138\n",
      " 136 142 144 146]\n",
      "[ 97 105  89  95 103  87  81 101  93  85  79  99  91  77  83  75  73  71\n",
      "  69  65  67  15  64  98  14 100  90  66 102  82 104  92  74  94  84  68\n",
      "  96  76  86  78  88  70  80  72 144 146 142 140 136 134 138 132   4  22\n",
      "  13 128  12 126 130 124   2  10 106 122  36  34  54  18  32  56  38  58\n",
      "  16  28  30 120  20  50  60  48  52  40  62  46  26  24  44  42   0 116\n",
      " 118  23   8 114 112 108  11  19 110  37  55  17  57  41   1  35  29  39\n",
      "  33  59  53  51  31  27  21  63  61  49  43  45  25  47   3   5   6   7\n",
      "   9 107 109 111 113 117 141 115 125 133 143 119 135 145 127 147 137 139\n",
      " 129 121 131 123]\n",
      "[ 89  97 105  81  95 101 103  87  93  79  85  99  77  91  83  75  73  71\n",
      "  69  65  67  15 144 142 146 136 134  13 140 138 128 120 132 126 114 124\n",
      " 118 122 130   8   7 116  43  41 112  45 106   6  61  47  63  29  59  51\n",
      "  31  55  39  53   1  27 110  33  49  57  25  35 108  37  19  17   3  11\n",
      "   5  23  21   4   2  22  10   9  20  36  38  56  34  40  58  54  32  42\n",
      "  60  52  28  30  50  62  44  26  24  48 107  46  16  18   0 109 111 117\n",
      " 141 113 133 125 143 115 119 147 139 145 137 135 127 131 129 121 123  12\n",
      "  64  14  66  98  68  90 100  82 102  74 104  70  92  94  96  84  72  76\n",
      "  86  88  78  80]\n",
      "[128 122 130 136 138 120 146 126 144 134 118 142 114 124 132 140 116 112\n",
      " 110 108   8 106   6 147 143 145 141 107 139  64 137 133  66 135   9 131\n",
      "  14  98  90  30   0  28  60  52  42  32  62  40  50  58  54  44  34  26\n",
      "  18  16  38 100  46  48  56  24  36  82  68 102 109  74  20 104  92  97\n",
      " 129 105 125  65  94  89  84 101 103  96  95  15  76 127   7  87  86   4\n",
      "  80  99 123 117  93  78  88  70  91  81  22  85  72 121   2  83  79  67\n",
      " 111  77 119  75  13  10 113  73 115  69  71  41  43  61  59  45  63   1\n",
      "  39  31  29  33  55  35  47  53  37  57  27  51  49  25  19  11  17  12\n",
      "  21  23   3   5]\n",
      "[ 18  16   0  32  30  28  52  34  54  60  26  50  62  58  48  22  46  24\n",
      "  44  42  40  36  56  38  20  10   2   4 106 108 123 110  13 131 121 129\n",
      " 139  12  11 137 112  23 115 119 116   8 127  73  71 147  79  81  77  69\n",
      " 124  87  89  85  75 135  95  15  88 114  97 113 145  83  93  80 132  67\n",
      "  37  96  86 103 105  57  91  19  35  39  78  55 101  33  99  59  94  72\n",
      "   1  41 104 140  31  53  61  29  65  51  63  43  84  27  45  76 102  49\n",
      "  25  47  92  17 117 118  70 111 125 143   3  21 100  82   6  74  90  98\n",
      "  14 133  68 126  66 134 141  64 142 120 109 122 144 128 136   5 146 130\n",
      " 138   9 107   7]\n"
     ]
    }
   ],
   "source": [
    "pca_trafo = PCA()\n",
    "pca_data = pca_trafo.fit_transform(np.array(all_key_points))\n",
    "# print(pca_trafo.explained_variance_ratio_)\n",
    "temp = []\n",
    "top_feat_PC = []\n",
    "for i in pca_trafo.components_[0:5]:\n",
    "#     print(np.sort(i))\n",
    "    print(np.argsort(i))\n",
    "    top_feat_PC.append(np.argsort(i))\n",
    "#     print(np.sort(i))\n",
    "# print(list(np.round(temp,4)))\n",
    "# sns.heatmap(np.log(pca_trafo.inverse_transform(np.eye(np.array(all_key_points).shape[0]))), cmap=\"hot\", cbar=False)"
   ]
  },
  {
   "cell_type": "code",
   "execution_count": 26,
   "metadata": {},
   "outputs": [
    {
     "name": "stdout",
     "output_type": "stream",
     "text": [
      "[array([ 81,  89,  79,  87,  97,  95,  77,  85, 105,  93, 103,  73, 101,\n",
      "        71,  83,  75,  91,  99,  69,  67,  65,  15, 123, 121, 129, 131,\n",
      "       127, 137, 119, 139, 135, 145, 147, 143, 125, 115, 133, 117, 141,\n",
      "       113, 111, 109, 107,   9, 104, 102, 100,  96,  94,  92,  98,  88,\n",
      "        86,  84,  90,  80,  78,  82,  76,  64,  74,  72,  70,  14,  66,\n",
      "        68,   7,  13,   5,   3,  11,  43,  45,  41,  47,  61,  53,   1,\n",
      "        63,  51,  31,  59,  29,  55,  39,  49,  33,  27,  25,  17,  57,\n",
      "         6,  35,  37,  19,  21,  23,  10,   2,  36,  56,  38,  22,  40,\n",
      "        34,  58,  54,  20,  32,  42,  60,  52,   4,  30,  28,  62,  50,\n",
      "        44,  26,   0,  46,  16,  48,  24,  18,  12,   8, 108, 110, 114,\n",
      "       112, 106, 116, 118, 124, 120, 122, 132, 130, 126, 140, 128, 134,\n",
      "       138, 136, 142, 144, 146], dtype=int64), array([ 97, 105,  89,  95, 103,  87,  81, 101,  93,  85,  79,  99,  91,\n",
      "        77,  83,  75,  73,  71,  69,  65,  67,  15,  64,  98,  14, 100,\n",
      "        90,  66, 102,  82, 104,  92,  74,  94,  84,  68,  96,  76,  86,\n",
      "        78,  88,  70,  80,  72, 144, 146, 142, 140, 136, 134, 138, 132,\n",
      "         4,  22,  13, 128,  12, 126, 130, 124,   2,  10, 106, 122,  36,\n",
      "        34,  54,  18,  32,  56,  38,  58,  16,  28,  30, 120,  20,  50,\n",
      "        60,  48,  52,  40,  62,  46,  26,  24,  44,  42,   0, 116, 118,\n",
      "        23,   8, 114, 112, 108,  11,  19, 110,  37,  55,  17,  57,  41,\n",
      "         1,  35,  29,  39,  33,  59,  53,  51,  31,  27,  21,  63,  61,\n",
      "        49,  43,  45,  25,  47,   3,   5,   6,   7,   9, 107, 109, 111,\n",
      "       113, 117, 141, 115, 125, 133, 143, 119, 135, 145, 127, 147, 137,\n",
      "       139, 129, 121, 131, 123], dtype=int64), array([ 89,  97, 105,  81,  95, 101, 103,  87,  93,  79,  85,  99,  77,\n",
      "        91,  83,  75,  73,  71,  69,  65,  67,  15, 144, 142, 146, 136,\n",
      "       134,  13, 140, 138, 128, 120, 132, 126, 114, 124, 118, 122, 130,\n",
      "         8,   7, 116,  43,  41, 112,  45, 106,   6,  61,  47,  63,  29,\n",
      "        59,  51,  31,  55,  39,  53,   1,  27, 110,  33,  49,  57,  25,\n",
      "        35, 108,  37,  19,  17,   3,  11,   5,  23,  21,   4,   2,  22,\n",
      "        10,   9,  20,  36,  38,  56,  34,  40,  58,  54,  32,  42,  60,\n",
      "        52,  28,  30,  50,  62,  44,  26,  24,  48, 107,  46,  16,  18,\n",
      "         0, 109, 111, 117, 141, 113, 133, 125, 143, 115, 119, 147, 139,\n",
      "       145, 137, 135, 127, 131, 129, 121, 123,  12,  64,  14,  66,  98,\n",
      "        68,  90, 100,  82, 102,  74, 104,  70,  92,  94,  96,  84,  72,\n",
      "        76,  86,  88,  78,  80], dtype=int64), array([128, 122, 130, 136, 138, 120, 146, 126, 144, 134, 118, 142, 114,\n",
      "       124, 132, 140, 116, 112, 110, 108,   8, 106,   6, 147, 143, 145,\n",
      "       141, 107, 139,  64, 137, 133,  66, 135,   9, 131,  14,  98,  90,\n",
      "        30,   0,  28,  60,  52,  42,  32,  62,  40,  50,  58,  54,  44,\n",
      "        34,  26,  18,  16,  38, 100,  46,  48,  56,  24,  36,  82,  68,\n",
      "       102, 109,  74,  20, 104,  92,  97, 129, 105, 125,  65,  94,  89,\n",
      "        84, 101, 103,  96,  95,  15,  76, 127,   7,  87,  86,   4,  80,\n",
      "        99, 123, 117,  93,  78,  88,  70,  91,  81,  22,  85,  72, 121,\n",
      "         2,  83,  79,  67, 111,  77, 119,  75,  13,  10, 113,  73, 115,\n",
      "        69,  71,  41,  43,  61,  59,  45,  63,   1,  39,  31,  29,  33,\n",
      "        55,  35,  47,  53,  37,  57,  27,  51,  49,  25,  19,  11,  17,\n",
      "        12,  21,  23,   3,   5], dtype=int64), array([ 18,  16,   0,  32,  30,  28,  52,  34,  54,  60,  26,  50,  62,\n",
      "        58,  48,  22,  46,  24,  44,  42,  40,  36,  56,  38,  20,  10,\n",
      "         2,   4, 106, 108, 123, 110,  13, 131, 121, 129, 139,  12,  11,\n",
      "       137, 112,  23, 115, 119, 116,   8, 127,  73,  71, 147,  79,  81,\n",
      "        77,  69, 124,  87,  89,  85,  75, 135,  95,  15,  88, 114,  97,\n",
      "       113, 145,  83,  93,  80, 132,  67,  37,  96,  86, 103, 105,  57,\n",
      "        91,  19,  35,  39,  78,  55, 101,  33,  99,  59,  94,  72,   1,\n",
      "        41, 104, 140,  31,  53,  61,  29,  65,  51,  63,  43,  84,  27,\n",
      "        45,  76, 102,  49,  25,  47,  92,  17, 117, 118,  70, 111, 125,\n",
      "       143,   3,  21, 100,  82,   6,  74,  90,  98,  14, 133,  68, 126,\n",
      "        66, 134, 141,  64, 142, 120, 109, 122, 144, 128, 136,   5, 146,\n",
      "       130, 138,   9, 107,   7], dtype=int64)]\n"
     ]
    }
   ],
   "source": [
    "print(top_feat_PC)"
   ]
  },
  {
   "cell_type": "code",
   "execution_count": 28,
   "metadata": {},
   "outputs": [
    {
     "name": "stdout",
     "output_type": "stream",
     "text": [
      "[21, 25, 47, 3, 5, 111, 113, 141, 115, 125, 133, 143, 119, 12, 17, 64, 14, 66, 98, 68, 90, 100, 82, 74, 70, 92, 33, 59, 53, 51, 31, 27, 63, 61, 49, 43, 45, 6, 7, 9, 107, 109]\n"
     ]
    }
   ],
   "source": [
    "top_features = {}\n",
    "for li in top_feat_PC:\n",
    "    li = li[-1:-41:-1]\n",
    "    for feat in li:\n",
    "        if feat not in top_features:\n",
    "            top_features[feat] = 1\n",
    "        else:\n",
    "            top_features[feat] +=1\n",
    "\n",
    "sorted_top_feat = sorted(top_features.items(), key=lambda x: x[1])[:-43:-1]\n",
    "# print(sorted_top_feat)\n",
    "\n",
    "feat_li_42 = []\n",
    "for i in sorted_top_feat:\n",
    "    feat_li_42.append(i[0])\n",
    "    \n",
    "print(feat_li_42)"
   ]
  },
  {
   "cell_type": "code",
   "execution_count": 29,
   "metadata": {},
   "outputs": [
    {
     "name": "stdout",
     "output_type": "stream",
     "text": [
      "\n",
      "SIA02-story01-front_x264/\n",
      "Inner file -  SIA02-story01-front_x264/SIA02-story01-front_x264_000000001145_keypoints.json\n",
      "(1145, 42)\n",
      "\n",
      "SIB01-story01-front_x264/\n",
      "Inner file -  SIB01-story01-front_x264/SIB01-story01-front_x264_000000000947_keypoints.json\n",
      "(947, 42)\n",
      "\n",
      "SIC02-story01-front_x264/\n",
      "Inner file -  SIC02-story01-front_x264/SIC02-story01-front_x264_000000007502_keypoints.json\n",
      "(7502, 42)\n",
      "\n",
      "SIA02-story02-front_x264/\n",
      "Inner file -  SIA02-story02-front_x264/SIA02-story02-front_x264_000000000704_keypoints.json\n",
      "(704, 42)\n",
      "\n",
      "SIB01-story02-front_x264/\n",
      "Inner file -  SIB01-story02-front_x264/SIB01-story02-front_x264_000000000664_keypoints.json\n",
      "(664, 42)\n",
      "\n",
      "SIC02-story02-front_x264/\n",
      "Inner file -  SIC02-story02-front_x264/SIC02-story02-front_x264_000000001692_keypoints.json\n",
      "(1692, 42)\n",
      "\n",
      "SIA02-story03-front_x264/\n",
      "Inner file -  SIA02-story03-front_x264/SIA02-story03-front_x264_000000000000_keypoints.json\n",
      "'SIA02-story03-front_x264'\n",
      "\n",
      "SIA02-story04-front_x264/\n",
      "Inner file -  SIA02-story04-front_x264/SIA02-story04-front_x264_000000000000_keypoints.json\n",
      "'SIA02-story04-front_x264'\n"
     ]
    }
   ],
   "source": [
    "signer_names=['SIA02','SIB01','SIC02']\n",
    "story_name = 'story'\n",
    "frame = '00000000000'\n",
    "train_key_points = []\n",
    "for story in range(1,80):\n",
    "    if story<10:\n",
    "        s_no = '0'+str(story)\n",
    "    else:\n",
    "        s_no = str(story)\n",
    "    s_no = story_name+s_no\n",
    "    try:\n",
    "        for signer in signer_names:\n",
    "            dict_entry = {}\n",
    "            sub_name = signer+'-'+s_no+'-front_x264'\n",
    "            trans_dir = sub_name+'/'\n",
    "            print()\n",
    "            print(trans_dir)\n",
    "            i = 0\n",
    "            stop = False\n",
    "            while not stop:\n",
    "                x = int(i/10)\n",
    "                if x<1:\n",
    "                    space_counter=1\n",
    "                elif x<10:\n",
    "                    space_counter=2\n",
    "                elif x<100:\n",
    "                    space_counter=3\n",
    "                elif x<1000:\n",
    "                    space_counter=4\n",
    "\n",
    "                fname=frame[-space_counter::-1]+str(i)\n",
    "                file_name = trans_dir+sub_name+'_'+fname+'_keypoints.json'\n",
    "#                 print(file_name)\n",
    "                i+=1\n",
    "                try:\n",
    "                    data = pd.read_json(file_name)\n",
    "                except:\n",
    "                    stop = True\n",
    "                    print(\"Inner file - \",file_name)\n",
    "                    break\n",
    "                train_key_points_np = np.array(get_data(data))\n",
    "#                 print(train_key_points_np.shape)\n",
    "#                 train_key_points_np = train_key_points_np[:][cleaned_indexes]\n",
    "#                 print(train_key_points_np.shape)\n",
    "                train_key_points_np_5 = train_key_points_np[:][feat_li_42]\n",
    "#                 print(train_key_points_np_5.shape)\n",
    "                if sub_name not in dict_entry:\n",
    "                    dict_entry[sub_name] = train_key_points_np_5\n",
    "                else:\n",
    "                    dict_entry[sub_name] = np.vstack((dict_entry[sub_name],train_key_points_np_5))\n",
    "#                 train_key_points.append(get_data(data))\n",
    "            train_key_points.append(dict_entry)\n",
    "            print(train_key_points[np.array(train_key_points).shape[0]-1][sub_name].shape)\n",
    "    except Exception as e:\n",
    "        print(e)\n",
    "        pass\n",
    "    "
   ]
  },
  {
   "cell_type": "code",
   "execution_count": 30,
   "metadata": {},
   "outputs": [
    {
     "name": "stdout",
     "output_type": "stream",
     "text": [
      "[{'SIA02-story01-front_x264': array([[130.96 , 147.318, 149.652, ..., 412.903, 440.072, 425.715],\n",
      "       [130.962, 147.426, 149.729, ..., 412.944, 437.256, 425.772],\n",
      "       [130.975, 147.299, 149.629, ..., 412.93 , 373.465, 426.118],\n",
      "       ...,\n",
      "       [128.383, 143.416, 146.937, ..., 407.709, 407.149, 442.274],\n",
      "       [128.381, 143.422, 146.943, ..., 407.717, 406.704, 442.664],\n",
      "       [128.389, 143.758, 147.322, ..., 409.029, 407.407, 441.287]])}, {'SIB01-story01-front_x264': array([[119.21 , 145.705, 149.527, ..., 402.519, 439.085, 409.717],\n",
      "       [117.937, 145.96 , 149.829, ..., 402.517, 414.961, 410.99 ],\n",
      "       [117.958, 145.835, 149.685, ..., 402.485, 414.381, 409.684],\n",
      "       ...,\n",
      "       [119.273, 146.693, 150.427, ..., 393.376, 417.887, 422.542],\n",
      "       [119.265, 146.819, 150.159, ..., 392.101, 418.911, 420.463],\n",
      "       [119.261, 146.906, 150.596, ..., 393.363, 419.038, 421.366]])}, {'SIC02-story01-front_x264': array([[127.094, 138.244, 141.413, ..., 375.076, 376.821, 369.219],\n",
      "       [127.105, 137.832, 140.631, ..., 375.089, 378.91 , 396.87 ],\n",
      "       [125.818, 137.398, 140.616, ..., 378.999, 384.529, 397.929],\n",
      "       ...,\n",
      "       [119.26 , 136.962, 144.18 , ..., 372.456, 361.303, 365.466],\n",
      "       [119.227, 137.007, 144.263, ..., 377.702, 402.528, 399.766],\n",
      "       [117.983, 137.534, 145.507, ..., 373.788, 366.99 , 367.459]])}, {'SIA02-story02-front_x264': array([[129.68 , 144.708, 146.301, ..., 362.061, 346.019, 407.628],\n",
      "       [129.661, 143.258, 145.635, ..., 385.523, 417.855, 414.192],\n",
      "       [129.655, 142.466, 144.858, ..., 381.622, 340.411, 393.949],\n",
      "       ...,\n",
      "       [128.406, 143.478, 146.544, ..., 414.225, 454.083, 438.55 ],\n",
      "       [128.388, 143.832, 146.869, ..., 415.54 , 374.172, 440.712],\n",
      "       [128.43 , 144.941, 148.072, ..., 419.475, 379.384, 436.097]])}, {'SIB01-story02-front_x264': array([[119.295, 145.669, 150.885, ..., 393.35 , 405.907, 402.813],\n",
      "       [119.267, 145.417, 150.698, ..., 393.339, 405.882, 402.4  ],\n",
      "       [119.247, 145.573, 150.818, ..., 393.343, 401.593, 401.982],\n",
      "       ...,\n",
      "       [119.229, 137.844, 147.487, ..., 394.667, 420.697, 419.932],\n",
      "       [119.224, 138.09 , 147.397, ..., 392.095, 417.652, 416.89 ],\n",
      "       [119.234, 138.068, 147.322, ..., 393.373, 417.411, 417.025]])}, {'SIC02-story02-front_x264': array([[125.778, 138.096, 142.11 , ..., 377.685, 373.8  , 374.207],\n",
      "       [124.48 , 137.893, 141.927, ..., 380.323, 373.249, 373.249],\n",
      "       [124.472, 138.01 , 141.571, ..., 380.317, 372.794, 385.81 ],\n",
      "       ...,\n",
      "       [130.998, 144.243, 144.642, ..., 382.906, 414.296, 405.633],\n",
      "       [130.989, 144.096, 144.883, ..., 382.931, 414.576, 407.814],\n",
      "       [131.041, 144.112, 144.898, ..., 381.628, 413.683, 405.237]])}, {}, {}]\n"
     ]
    }
   ],
   "source": [
    "print(train_key_points)"
   ]
  },
  {
   "cell_type": "code",
   "execution_count": 16,
   "metadata": {},
   "outputs": [],
   "source": [
    "with open('key_points_42.pkl','wb') as f:\n",
    "    pickle.dump(train_key_points, f)"
   ]
  },
  {
   "cell_type": "code",
   "execution_count": 17,
   "metadata": {},
   "outputs": [],
   "source": [
    "np.save('key_points_42.npy', train_key_points)"
   ]
  },
  {
   "cell_type": "code",
   "execution_count": 48,
   "metadata": {},
   "outputs": [
    {
     "name": "stdout",
     "output_type": "stream",
     "text": [
      "(19, 5)\n"
     ]
    }
   ],
   "source": [
    "loaded_data = np.load('key_points_5.npy')\n",
    "for key in loaded_data:\n",
    "    for k in key:\n",
    "        print(key[k][1:20].shape)\n",
    "        break\n",
    "    break"
   ]
  },
  {
   "cell_type": "code",
   "execution_count": 12,
   "metadata": {},
   "outputs": [
    {
     "name": "stdout",
     "output_type": "stream",
     "text": [
      "pose_keypoints_2d\n",
      "(36,)\n",
      "face_keypoints_2d\n",
      "(60,)\n",
      "hand_left_keypoints_2d\n",
      "(63,)\n",
      "hand_right_keypoints_2d\n",
      "(63,)\n",
      "pose_keypoints_3d\n",
      "face_keypoints_3d\n",
      "hand_left_keypoints_3d\n",
      "hand_right_keypoints_3d\n",
      "(148,)\n"
     ]
    }
   ],
   "source": [
    "fl_name = 'SIA02-story01-front_x264'+'\\SIA02-story01-front_x264_000000000000_keypoints.json'\n",
    "fl_data = pd.read_json(fl_name)\n",
    "print(get_data(fl_data).shape)"
   ]
  }
 ],
 "metadata": {
  "kernelspec": {
   "display_name": "Python 3",
   "language": "python",
   "name": "python3"
  },
  "language_info": {
   "codemirror_mode": {
    "name": "ipython",
    "version": 3
   },
   "file_extension": ".py",
   "mimetype": "text/x-python",
   "name": "python",
   "nbconvert_exporter": "python",
   "pygments_lexer": "ipython3",
   "version": "3.6.4"
  }
 },
 "nbformat": 4,
 "nbformat_minor": 2
}
