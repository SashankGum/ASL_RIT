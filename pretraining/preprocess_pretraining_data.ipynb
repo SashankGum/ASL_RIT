{
 "cells": [
  {
   "cell_type": "code",
   "execution_count": 2,
   "metadata": {},
   "outputs": [],
   "source": [
    "\"\"\"\n",
    "This file just adds a dummy target sentence ('blabla') to pretraining frame data.\n",
    "\n",
    "\"\"\"\n",
    "import numpy as np"
   ]
  },
  {
   "cell_type": "code",
   "execution_count": 3,
   "metadata": {},
   "outputs": [],
   "source": [
    "data = np.load('pretrain_key_points_5.npy')"
   ]
  },
  {
   "cell_type": "code",
   "execution_count": 4,
   "metadata": {},
   "outputs": [
    {
     "name": "stdout",
     "output_type": "stream",
     "text": [
      "334299\n"
     ]
    }
   ],
   "source": [
    "ind_vid = []\n",
    "count = 0\n",
    "for key in data:\n",
    "    ind = []\n",
    "    for k in key:\n",
    "        ind.append(key[k])\n",
    "        ind.append('blabla')\n",
    "        count += key[k].shape[0]\n",
    "#         ind.append('bla bla bla bla')\n",
    "    ind_vid.append(ind)\n",
    "print(count)\n",
    "    \n",
    "ind_vid = np.array(ind_vid)"
   ]
  },
  {
   "cell_type": "code",
   "execution_count": 5,
   "metadata": {},
   "outputs": [
    {
     "name": "stdout",
     "output_type": "stream",
     "text": [
      "(44, 2)\n",
      "[array([[-2949.92304661,  1769.25171967,   845.59396398,   541.55254938,\n",
      "        -1068.13247124],\n",
      "       [-2974.61584368,  1831.16806754,   860.33254266,   540.36910146,\n",
      "        -1185.57884609],\n",
      "       [ -288.47848394,  2119.15329914,   869.50997017,   527.20847587,\n",
      "        -1208.36909069],\n",
      "       ...,\n",
      "       [-2691.86224579,   807.01264199,   557.83583801,  1014.63070889,\n",
      "        -1119.90381992],\n",
      "       [-2697.98213807,   800.14957182,   527.00340152,   994.01825185,\n",
      "        -1124.6914811 ],\n",
      "       [-2708.04958718,   802.36470057,   543.3654821 ,  1005.00360051,\n",
      "        -1124.75893955]])\n",
      " 'blabla']\n"
     ]
    }
   ],
   "source": [
    "print(ind_vid.shape)\n",
    "print(ind_vid[0])"
   ]
  },
  {
   "cell_type": "code",
   "execution_count": 6,
   "metadata": {},
   "outputs": [],
   "source": [
    "\"\"\"\n",
    "NORMALIZATION FUNCTION\n",
    "x_min = lower limit\n",
    "x_max = upper limit\n",
    "\"\"\"\n",
    "def scale(X, x_min, x_max):\n",
    "    nom = (X-X.min(axis=0))*(x_max-x_min)\n",
    "    denom = X.max(axis=0) - X.min(axis=0)\n",
    "    denom[denom==0] = 1\n",
    "    return x_min + nom/denom "
   ]
  },
  {
   "cell_type": "code",
   "execution_count": 24,
   "metadata": {},
   "outputs": [],
   "source": [
    "np.save('pretrain_sentence_frame_mapped_5.npy', ind_vid)"
   ]
  },
  {
   "cell_type": "code",
   "execution_count": 7,
   "metadata": {},
   "outputs": [],
   "source": [
    "# Only run the bellow cells if you want to pretrain on normalized data\n",
    "for i in range(ind_vid.shape[0]):\n",
    "    ind_vid[i][0] = scale(ind_vid[i][0],0,10)"
   ]
  },
  {
   "cell_type": "code",
   "execution_count": 8,
   "metadata": {},
   "outputs": [
    {
     "name": "stdout",
     "output_type": "stream",
     "text": [
      "[[9.08245116 9.57190859 7.3606882  2.39471474 2.93789029]\n",
      " [0.18538806 8.6268914  7.11740254 2.41725098 3.43868369]\n",
      " [0.31711825 8.59112343 7.50563423 2.37794496 2.75932135]\n",
      " ...\n",
      " [0.659277   4.45868453 5.51650798 5.68924272 1.63686612]\n",
      " [0.75631032 4.47536279 5.44316404 5.70361058 1.63636789]\n",
      " [0.68812483 4.43647985 5.54524397 5.64771864 1.63710168]]\n"
     ]
    }
   ],
   "source": [
    "print(ind_vid[1][0])"
   ]
  },
  {
   "cell_type": "code",
   "execution_count": 37,
   "metadata": {},
   "outputs": [],
   "source": [
    "np.save('pretrain_sentence_frame_mapped_5.npy', ind_vid)"
   ]
  },
  {
   "cell_type": "code",
   "execution_count": null,
   "metadata": {},
   "outputs": [],
   "source": []
  }
 ],
 "metadata": {
  "kernelspec": {
   "display_name": "Python 2",
   "language": "python",
   "name": "python2"
  },
  "language_info": {
   "codemirror_mode": {
    "name": "ipython",
    "version": 2
   },
   "file_extension": ".py",
   "mimetype": "text/x-python",
   "name": "python",
   "nbconvert_exporter": "python",
   "pygments_lexer": "ipython2",
   "version": "2.7.15rc1"
  }
 },
 "nbformat": 4,
 "nbformat_minor": 2
}
